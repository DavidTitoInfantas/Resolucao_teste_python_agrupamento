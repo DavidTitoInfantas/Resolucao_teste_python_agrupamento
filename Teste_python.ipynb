{
 "cells": [
  {
   "cell_type": "markdown",
   "id": "e64a1e05-578f-424e-ad24-d071f94ded92",
   "metadata": {},
   "source": [
    "## Teste de Conhecimento Python\n",
    "\n",
    "Crie uma função em pythom que identifique o valor que tenha a maior quantidade de incidencias na seguinte lista [3,2,4,3,5,1,3,4,3].\n",
    "Utilice funções basicas de pythom, não é permitido o uso de bibliotecas."
   ]
  },
  {
   "cell_type": "code",
   "execution_count": 84,
   "id": "5f67ff01-ca32-4463-9f99-d6f8ec39db8c",
   "metadata": {},
   "outputs": [],
   "source": [
    "# Criação da função\n",
    "def numero_maior_incidencias(lista_input):\n",
    "    dic_created = {}\n",
    "    for i in lista_input:\n",
    "        lista_keys_monitor = [0]\n",
    "        lista_value_monitor = [0]\n",
    "    \n",
    "        #Agrupamento de valores\n",
    "        if i not in (dic_created.keys()):\n",
    "            dic_created[i]=1\n",
    "            # print(\"\\nResultado if\")\n",
    "            # print(i)\n",
    "            # print(dic_created)\n",
    "        else:\n",
    "            valor=dic_created[i]\n",
    "            dic_created.update({i:valor+1})\n",
    "            # print(\"\\nResultado else\")\n",
    "            # print(valor)\n",
    "            # print(i)\n",
    "            # print(dic_created)\n",
    "         \n",
    "        chave = i\n",
    "        valor = dic_created[i]\n",
    "        \n",
    "        if valor > max(lista_value_monitor):\n",
    "            lista_keys_monitor = []\n",
    "            lista_value_monitor = []\n",
    "            lista_keys_monitor.append(chave)\n",
    "            lista_value_monitor.append(valor)\n",
    "            # print(\"esvaziar e inserir valores\")\n",
    "        elif valor == max(lista_value_monitor):\n",
    "            lista_keys_monitor.append(chave)\n",
    "            lista_value_monitor.append(valor)\n",
    "            # print(\"acrescentar valores\")\n",
    "        else:\n",
    "            pass\n",
    "            # print(\"sem modificações no monitoramento\")\n",
    "    print(f\"\"\"O(s) numeros com maior incidencia são {lista_keys_monitor}\n",
    "    com {lista_value_monitor} incidencias respetivamente\"\"\")\n",
    "    return lista_keys_monitor"
   ]
  },
  {
   "cell_type": "code",
   "execution_count": 86,
   "id": "4ab207f5-dfad-420c-846c-0158d914bf8e",
   "metadata": {},
   "outputs": [
    {
     "name": "stdout",
     "output_type": "stream",
     "text": [
      "O(s) numeros com maior incidencia são [3]\n",
      "    com [4] incidencias respetivamente\n",
      "\n",
      "Resultado [3]\n"
     ]
    }
   ],
   "source": [
    "# Lista de imput\n",
    "lista_input = [3,2,4,3,5,1,3,4,3]\n",
    "\n",
    "# Execução da Função\n",
    "numeros_repetitivos = numero_maior_incidencias(lista_input)\n",
    "print(f\"\\nResultado {numeros_repetitivos}\")"
   ]
  },
  {
   "cell_type": "code",
   "execution_count": null,
   "id": "729a99d4-86f3-432f-9bd0-27ee4d5f1eb3",
   "metadata": {
    "editable": true,
    "slideshow": {
     "slide_type": ""
    },
    "tags": []
   },
   "outputs": [],
   "source": []
  }
 ],
 "metadata": {
  "kernelspec": {
   "display_name": "Python 3 (ipykernel)",
   "language": "python",
   "name": "python3"
  },
  "language_info": {
   "codemirror_mode": {
    "name": "ipython",
    "version": 3
   },
   "file_extension": ".py",
   "mimetype": "text/x-python",
   "name": "python",
   "nbconvert_exporter": "python",
   "pygments_lexer": "ipython3",
   "version": "3.11.6"
  }
 },
 "nbformat": 4,
 "nbformat_minor": 5
}
